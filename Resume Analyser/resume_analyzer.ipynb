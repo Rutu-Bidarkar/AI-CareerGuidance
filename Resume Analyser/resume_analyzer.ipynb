{
  "cells": [
    {
      "cell_type": "code",
      "execution_count": 1,
      "metadata": {
        "colab": {
          "base_uri": "https://localhost:8080/"
        },
        "id": "vPHBEOp2oTaI",
        "outputId": "f07846f9-8479-4757-d5bc-bb115a73415b"
      },
      "outputs": [
        {
          "name": "stdout",
          "output_type": "stream",
          "text": [
            "Collecting pdfplumberNote: you may need to restart the kernel to use updated packages.\n",
            "\n",
            "  Downloading pdfplumber-0.11.5-py3-none-any.whl.metadata (42 kB)\n",
            "     ---------------------------------------- 0.0/42.5 kB ? eta -:--:--\n",
            "     ---------------------------------------- 42.5/42.5 kB 2.0 MB/s eta 0:00:00\n",
            "Collecting pytesseract\n",
            "  Downloading pytesseract-0.3.13-py3-none-any.whl.metadata (11 kB)\n",
            "Collecting pdf2image\n",
            "  Downloading pdf2image-1.17.0-py3-none-any.whl.metadata (6.2 kB)\n",
            "Collecting pdfminer.six==20231228 (from pdfplumber)\n",
            "  Downloading pdfminer.six-20231228-py3-none-any.whl.metadata (4.2 kB)\n",
            "Requirement already satisfied: Pillow>=9.1 in c:\\users\\rutuja\\appdata\\local\\programs\\python\\python312\\lib\\site-packages (from pdfplumber) (11.0.0)\n",
            "Collecting pypdfium2>=4.18.0 (from pdfplumber)\n",
            "  Downloading pypdfium2-4.30.1-py3-none-win_amd64.whl.metadata (48 kB)\n",
            "     ---------------------------------------- 0.0/48.2 kB ? eta -:--:--\n",
            "     ---------------------------------------- 48.2/48.2 kB ? eta 0:00:00\n",
            "Requirement already satisfied: charset-normalizer>=2.0.0 in c:\\users\\rutuja\\appdata\\local\\programs\\python\\python312\\lib\\site-packages (from pdfminer.six==20231228->pdfplumber) (3.4.0)\n",
            "Collecting cryptography>=36.0.0 (from pdfminer.six==20231228->pdfplumber)\n",
            "  Downloading cryptography-44.0.1-cp39-abi3-win_amd64.whl.metadata (5.7 kB)\n",
            "Requirement already satisfied: packaging>=21.3 in c:\\users\\rutuja\\appdata\\roaming\\python\\python312\\site-packages (from pytesseract) (24.2)\n",
            "Collecting cffi>=1.12 (from cryptography>=36.0.0->pdfminer.six==20231228->pdfplumber)\n",
            "  Downloading cffi-1.17.1-cp312-cp312-win_amd64.whl.metadata (1.6 kB)\n",
            "Collecting pycparser (from cffi>=1.12->cryptography>=36.0.0->pdfminer.six==20231228->pdfplumber)\n",
            "  Downloading pycparser-2.22-py3-none-any.whl.metadata (943 bytes)\n",
            "Downloading pdfplumber-0.11.5-py3-none-any.whl (59 kB)\n",
            "   ---------------------------------------- 0.0/59.5 kB ? eta -:--:--\n",
            "   ---------------------------------------- 59.5/59.5 kB 3.3 MB/s eta 0:00:00\n",
            "Downloading pdfminer.six-20231228-py3-none-any.whl (5.6 MB)\n",
            "   ---------------------------------------- 0.0/5.6 MB ? eta -:--:--\n",
            "   -- ------------------------------------- 0.4/5.6 MB 7.6 MB/s eta 0:00:01\n",
            "   ----- ---------------------------------- 0.8/5.6 MB 8.5 MB/s eta 0:00:01\n",
            "   --------- ------------------------------ 1.3/5.6 MB 9.4 MB/s eta 0:00:01\n",
            "   ----------- ---------------------------- 1.7/5.6 MB 8.8 MB/s eta 0:00:01\n",
            "   --------------- ------------------------ 2.1/5.6 MB 9.0 MB/s eta 0:00:01\n",
            "   ----------------- ---------------------- 2.5/5.6 MB 9.4 MB/s eta 0:00:01\n",
            "   --------------------- ------------------ 3.1/5.6 MB 9.3 MB/s eta 0:00:01\n",
            "   ------------------------ --------------- 3.4/5.6 MB 9.1 MB/s eta 0:00:01\n",
            "   --------------------------- ------------ 3.9/5.6 MB 9.2 MB/s eta 0:00:01\n",
            "   ------------------------------- -------- 4.4/5.6 MB 9.3 MB/s eta 0:00:01\n",
            "   --------------------------------- ------ 4.8/5.6 MB 9.5 MB/s eta 0:00:01\n",
            "   ------------------------------------ --- 5.2/5.6 MB 9.4 MB/s eta 0:00:01\n",
            "   ---------------------------------------  5.6/5.6 MB 9.4 MB/s eta 0:00:01\n",
            "   ---------------------------------------- 5.6/5.6 MB 9.2 MB/s eta 0:00:00\n",
            "Downloading pytesseract-0.3.13-py3-none-any.whl (14 kB)\n",
            "Downloading pdf2image-1.17.0-py3-none-any.whl (11 kB)\n",
            "Downloading pypdfium2-4.30.1-py3-none-win_amd64.whl (3.0 MB)\n",
            "   ---------------------------------------- 0.0/3.0 MB ? eta -:--:--\n",
            "   ----- ---------------------------------- 0.4/3.0 MB 11.9 MB/s eta 0:00:01\n",
            "   ---------- ----------------------------- 0.8/3.0 MB 10.1 MB/s eta 0:00:01\n",
            "   --------------- ------------------------ 1.2/3.0 MB 9.3 MB/s eta 0:00:01\n",
            "   --------------------- ------------------ 1.6/3.0 MB 9.2 MB/s eta 0:00:01\n",
            "   --------------------------- ------------ 2.0/3.0 MB 9.3 MB/s eta 0:00:01\n",
            "   ---------------------------------- ----- 2.5/3.0 MB 9.5 MB/s eta 0:00:01\n",
            "   ---------------------------------------  2.9/3.0 MB 9.4 MB/s eta 0:00:01\n",
            "   ---------------------------------------- 3.0/3.0 MB 8.6 MB/s eta 0:00:00\n",
            "Downloading cryptography-44.0.1-cp39-abi3-win_amd64.whl (3.2 MB)\n",
            "   ---------------------------------------- 0.0/3.2 MB ? eta -:--:--\n",
            "   ----- ---------------------------------- 0.4/3.2 MB 8.9 MB/s eta 0:00:01\n",
            "   ---------- ----------------------------- 0.9/3.2 MB 9.0 MB/s eta 0:00:01\n",
            "   ----------------- ---------------------- 1.4/3.2 MB 11.0 MB/s eta 0:00:01\n",
            "   ---------------------- ----------------- 1.8/3.2 MB 10.5 MB/s eta 0:00:01\n",
            "   ---------------------------- ----------- 2.3/3.2 MB 10.5 MB/s eta 0:00:01\n",
            "   ----------------------------------- ---- 2.9/3.2 MB 10.7 MB/s eta 0:00:01\n",
            "   ---------------------------------------- 3.2/3.2 MB 10.2 MB/s eta 0:00:00\n",
            "Downloading cffi-1.17.1-cp312-cp312-win_amd64.whl (181 kB)\n",
            "   ---------------------------------------- 0.0/182.0 kB ? eta -:--:--\n",
            "   --------------------------------------- 182.0/182.0 kB 10.7 MB/s eta 0:00:00\n",
            "Downloading pycparser-2.22-py3-none-any.whl (117 kB)\n",
            "   ---------------------------------------- 0.0/117.6 kB ? eta -:--:--\n",
            "   ---------------------------------------- 117.6/117.6 kB 3.5 MB/s eta 0:00:00\n",
            "Installing collected packages: pytesseract, pypdfium2, pycparser, pdf2image, cffi, cryptography, pdfminer.six, pdfplumber\n",
            "Successfully installed cffi-1.17.1 cryptography-44.0.1 pdf2image-1.17.0 pdfminer.six-20231228 pdfplumber-0.11.5 pycparser-2.22 pypdfium2-4.30.1 pytesseract-0.3.13\n"
          ]
        },
        {
          "name": "stderr",
          "output_type": "stream",
          "text": [
            "\n",
            "[notice] A new release of pip is available: 24.0 -> 25.0.1\n",
            "[notice] To update, run: python.exe -m pip install --upgrade pip\n"
          ]
        }
      ],
      "source": [
        "%pip install pdfplumber pytesseract pdf2image"
      ]
    },
    {
      "cell_type": "code",
      "execution_count": 2,
      "metadata": {
        "id": "FYRKP_PVoovc"
      },
      "outputs": [],
      "source": [
        "import pdfplumber\n",
        "import pytesseract\n",
        "from pdf2image import convert_from_path"
      ]
    },
    {
      "cell_type": "code",
      "execution_count": 3,
      "metadata": {
        "id": "A0_WUQLkoo54"
      },
      "outputs": [],
      "source": [
        "def extract_text_from_pdf(pdf_path):\n",
        "    text = \"\"\n",
        "    try:\n",
        "        # Try direct text extraction\n",
        "        with pdfplumber.open(pdf_path) as pdf:\n",
        "            for page in pdf.pages:\n",
        "                page_text = page.extract_text()\n",
        "                if page_text:\n",
        "                    text += page_text\n",
        "\n",
        "        if text.strip():\n",
        "            return text.strip()\n",
        "    except Exception as e:\n",
        "        print(f\"Direct text extraction failed: {e}\")\n",
        "\n",
        "    # Fallback to OCR for image-based PDFs\n",
        "    print(\"Falling back to OCR for image-based PDF.\")\n",
        "    try:\n",
        "        images = convert_from_path(pdf_path)\n",
        "        for image in images:\n",
        "            page_text = pytesseract.image_to_string(image)\n",
        "            text += page_text + \"\\n\"\n",
        "    except Exception as e:\n",
        "        print(f\"OCR failed: {e}\")\n",
        "\n",
        "    return text.strip()"
      ]
    },
    {
      "cell_type": "code",
      "execution_count": 4,
      "metadata": {
        "id": "gFAQ54DcopD4"
      },
      "outputs": [
        {
          "name": "stdout",
          "output_type": "stream",
          "text": [
            "\n",
            "Extracted Text from PDF:\n",
            "Rutuja Bidarkar\n",
            "Address: Amanora Town, Pune| Phone: 9067932208| Email: Rutuja.bidarkar@gmail.com| Linkedin:\n",
            "https://www.linkedin.com/in/rutuja-bidarkar-404004245/\n",
            "Objective\n",
            "Highly motivated and detail-oriented Software Engineer with [X] years of experience in designing,\n",
            "developing, and implementing software solutions. Proficient in full-stack development, problem-\n",
            "solving, and delivering scalable applications. Seeking an opportunity to contribute to innovative\n",
            "projects in a dynamic organization.\n",
            "Technical Skills\n",
            " Programming Languages: Python, Java, C++, JavaScript\n",
            " Web Technologies: HTML, CSS, React.js, Node.js, PHP\n",
            " Databases: MySQL, MongoDB\n",
            " Frameworks: Django, Express.js\n",
            " Tools & Platforms: Git, Docker, AWS, Figma\n",
            " Others: REST APIs, Agile Methodologies, Unit Testing\n",
            "Education\n",
            "Bachelor of Technology in Computer Science\n",
            "AISSMS IOIT, Pune — 2027\n",
            " Relevant Coursework: Data Structures and Algorithms, Operating Systems, Database\n",
            "Management Systems, Web Development, Machine Learning\n",
            "Projects\n",
            "Personalized Career Guidance Platform\n",
            " Developed a web-based platform using PHP, HTML, CSS, and JavaScript to provide\n",
            "personalized career recommendations to students.\n",
            " Integrated AI algorithms for tailored career pathway suggestions based on user preferences.\n",
            "Interactive Math Learning Tracker\n",
            " Created a React.js application to track and visualize student progress in learning math\n",
            "concepts.\n",
            " Implemented user authentication and dynamic scheduling features.Certifications\n",
            " Certified React Developer – [Issuing Organization]\n",
            " Python for Everybody – [Issuing Organization]\n",
            " AWS Certified Cloud Practitioner – [Issuing Organization]\n",
            "Achievements\n",
            " Winner of [Hackathon Name] for building a real-time collaboration tool.\n",
            " Published a research paper on [Topic] in [Journal Name].\n",
            "Extracurricular Activities\n",
            " Contributed to open-source projects on GitHub.\n",
            " Active member of the [University’s Coding Club/Tech Community].\n",
            "References\n",
            "Available upon request.\n"
          ]
        }
      ],
      "source": [
        "pdf_path = \"Resume.pdf\"\n",
        "resume_text = extract_text_from_pdf(pdf_path)\n",
        "\n",
        "print(\"\\nExtracted Text from PDF:\")\n",
        "print(resume_text)"
      ]
    },
    {
      "cell_type": "code",
      "execution_count": 5,
      "metadata": {
        "id": "SgiCPyeiopMJ"
      },
      "outputs": [
        {
          "name": "stdout",
          "output_type": "stream",
          "text": [
            "Collecting google.generativeai\n",
            "  Downloading google_generativeai-0.8.4-py3-none-any.whl.metadata (4.2 kB)\n",
            "Requirement already satisfied: python-dotenv in c:\\users\\rutuja\\appdata\\local\\programs\\python\\python312\\lib\\site-packages (1.0.1)\n",
            "Collecting google-ai-generativelanguage==0.6.15 (from google.generativeai)\n",
            "  Downloading google_ai_generativelanguage-0.6.15-py3-none-any.whl.metadata (5.7 kB)\n",
            "Collecting google-api-core (from google.generativeai)\n",
            "  Downloading google_api_core-2.24.1-py3-none-any.whl.metadata (3.0 kB)\n",
            "Collecting google-api-python-client (from google.generativeai)\n",
            "  Downloading google_api_python_client-2.161.0-py2.py3-none-any.whl.metadata (6.7 kB)\n",
            "Collecting google-auth>=2.15.0 (from google.generativeai)\n",
            "  Downloading google_auth-2.38.0-py2.py3-none-any.whl.metadata (4.8 kB)\n",
            "Collecting protobuf (from google.generativeai)\n",
            "  Using cached protobuf-5.29.3-cp310-abi3-win_amd64.whl.metadata (592 bytes)\n",
            "Requirement already satisfied: pydantic in c:\\users\\rutuja\\appdata\\local\\programs\\python\\python312\\lib\\site-packages (from google.generativeai) (2.10.4)\n",
            "Requirement already satisfied: tqdm in c:\\users\\rutuja\\appdata\\local\\programs\\python\\python312\\lib\\site-packages (from google.generativeai) (4.67.1)\n",
            "Requirement already satisfied: typing-extensions in c:\\users\\rutuja\\appdata\\local\\programs\\python\\python312\\lib\\site-packages (from google.generativeai) (4.12.2)\n",
            "Collecting proto-plus<2.0.0dev,>=1.22.3 (from google-ai-generativelanguage==0.6.15->google.generativeai)\n",
            "  Downloading proto_plus-1.26.0-py3-none-any.whl.metadata (2.2 kB)\n",
            "Collecting googleapis-common-protos<2.0.dev0,>=1.56.2 (from google-api-core->google.generativeai)\n",
            "  Downloading googleapis_common_protos-1.68.0-py2.py3-none-any.whl.metadata (5.1 kB)\n",
            "Requirement already satisfied: requests<3.0.0.dev0,>=2.18.0 in c:\\users\\rutuja\\appdata\\local\\programs\\python\\python312\\lib\\site-packages (from google-api-core->google.generativeai) (2.32.3)\n",
            "Collecting cachetools<6.0,>=2.0.0 (from google-auth>=2.15.0->google.generativeai)\n",
            "  Downloading cachetools-5.5.2-py3-none-any.whl.metadata (5.4 kB)\n",
            "Collecting pyasn1-modules>=0.2.1 (from google-auth>=2.15.0->google.generativeai)\n",
            "  Using cached pyasn1_modules-0.4.1-py3-none-any.whl.metadata (3.5 kB)\n",
            "Collecting rsa<5,>=3.1.4 (from google-auth>=2.15.0->google.generativeai)\n",
            "  Using cached rsa-4.9-py3-none-any.whl.metadata (4.2 kB)\n",
            "Collecting httplib2<1.dev0,>=0.19.0 (from google-api-python-client->google.generativeai)\n",
            "  Downloading httplib2-0.22.0-py3-none-any.whl.metadata (2.6 kB)\n",
            "Collecting google-auth-httplib2<1.0.0,>=0.2.0 (from google-api-python-client->google.generativeai)\n",
            "  Downloading google_auth_httplib2-0.2.0-py2.py3-none-any.whl.metadata (2.2 kB)\n",
            "Collecting uritemplate<5,>=3.0.1 (from google-api-python-client->google.generativeai)\n",
            "  Downloading uritemplate-4.1.1-py2.py3-none-any.whl.metadata (2.9 kB)\n",
            "Requirement already satisfied: annotated-types>=0.6.0 in c:\\users\\rutuja\\appdata\\local\\programs\\python\\python312\\lib\\site-packages (from pydantic->google.generativeai) (0.7.0)\n",
            "Requirement already satisfied: pydantic-core==2.27.2 in c:\\users\\rutuja\\appdata\\local\\programs\\python\\python312\\lib\\site-packages (from pydantic->google.generativeai) (2.27.2)\n",
            "Requirement already satisfied: colorama in c:\\users\\rutuja\\appdata\\roaming\\python\\python312\\site-packages (from tqdm->google.generativeai) (0.4.6)\n",
            "Collecting grpcio<2.0dev,>=1.33.2 (from google-api-core[grpc]!=2.0.*,!=2.1.*,!=2.10.*,!=2.2.*,!=2.3.*,!=2.4.*,!=2.5.*,!=2.6.*,!=2.7.*,!=2.8.*,!=2.9.*,<3.0.0dev,>=1.34.1->google-ai-generativelanguage==0.6.15->google.generativeai)\n",
            "  Downloading grpcio-1.70.0-cp312-cp312-win_amd64.whl.metadata (4.0 kB)\n",
            "Collecting grpcio-status<2.0.dev0,>=1.33.2 (from google-api-core[grpc]!=2.0.*,!=2.1.*,!=2.10.*,!=2.2.*,!=2.3.*,!=2.4.*,!=2.5.*,!=2.6.*,!=2.7.*,!=2.8.*,!=2.9.*,<3.0.0dev,>=1.34.1->google-ai-generativelanguage==0.6.15->google.generativeai)\n",
            "  Downloading grpcio_status-1.70.0-py3-none-any.whl.metadata (1.1 kB)\n",
            "Requirement already satisfied: pyparsing!=3.0.0,!=3.0.1,!=3.0.2,!=3.0.3,<4,>=2.4.2 in c:\\users\\rutuja\\appdata\\local\\programs\\python\\python312\\lib\\site-packages (from httplib2<1.dev0,>=0.19.0->google-api-python-client->google.generativeai) (3.2.0)\n",
            "Collecting pyasn1<0.7.0,>=0.4.6 (from pyasn1-modules>=0.2.1->google-auth>=2.15.0->google.generativeai)\n",
            "  Using cached pyasn1-0.6.1-py3-none-any.whl.metadata (8.4 kB)\n",
            "Requirement already satisfied: charset-normalizer<4,>=2 in c:\\users\\rutuja\\appdata\\local\\programs\\python\\python312\\lib\\site-packages (from requests<3.0.0.dev0,>=2.18.0->google-api-core->google.generativeai) (3.4.0)\n",
            "Requirement already satisfied: idna<4,>=2.5 in c:\\users\\rutuja\\appdata\\local\\programs\\python\\python312\\lib\\site-packages (from requests<3.0.0.dev0,>=2.18.0->google-api-core->google.generativeai) (3.10)\n",
            "Requirement already satisfied: urllib3<3,>=1.21.1 in c:\\users\\rutuja\\appdata\\local\\programs\\python\\python312\\lib\\site-packages (from requests<3.0.0.dev0,>=2.18.0->google-api-core->google.generativeai) (2.2.3)\n",
            "Requirement already satisfied: certifi>=2017.4.17 in c:\\users\\rutuja\\appdata\\local\\programs\\python\\python312\\lib\\site-packages (from requests<3.0.0.dev0,>=2.18.0->google-api-core->google.generativeai) (2024.12.14)\n",
            "Downloading google_generativeai-0.8.4-py3-none-any.whl (175 kB)\n",
            "   ---------------------------------------- 0.0/175.4 kB ? eta -:--:--\n",
            "   ---------------------------------------  174.1/175.4 kB 5.3 MB/s eta 0:00:01\n",
            "   ---------------------------------------- 175.4/175.4 kB 5.3 MB/s eta 0:00:00\n",
            "Downloading google_ai_generativelanguage-0.6.15-py3-none-any.whl (1.3 MB)\n",
            "   ---------------------------------------- 0.0/1.3 MB ? eta -:--:--\n",
            "   ------------------ --------------------- 0.6/1.3 MB 12.6 MB/s eta 0:00:01\n",
            "   --------------------------------- ------ 1.1/1.3 MB 11.7 MB/s eta 0:00:01\n",
            "   ---------------------------------------- 1.3/1.3 MB 12.1 MB/s eta 0:00:00\n",
            "Downloading google_api_core-2.24.1-py3-none-any.whl (160 kB)\n",
            "   ---------------------------------------- 0.0/160.1 kB ? eta -:--:--\n",
            "   --------------------------------------- 160.1/160.1 kB 10.0 MB/s eta 0:00:00\n",
            "Downloading google_auth-2.38.0-py2.py3-none-any.whl (210 kB)\n",
            "   ---------------------------------------- 0.0/210.8 kB ? eta -:--:--\n",
            "   --------------------------------------- 210.8/210.8 kB 13.4 MB/s eta 0:00:00\n",
            "Downloading protobuf-5.29.3-cp310-abi3-win_amd64.whl (434 kB)\n",
            "   ---------------------------------------- 0.0/434.5 kB ? eta -:--:--\n",
            "   ---------------------------------------- 434.5/434.5 kB 9.0 MB/s eta 0:00:00\n",
            "Downloading google_api_python_client-2.161.0-py2.py3-none-any.whl (12.9 MB)\n",
            "   ---------------------------------------- 0.0/12.9 MB ? eta -:--:--\n",
            "   -- ------------------------------------- 0.6/12.9 MB 20.5 MB/s eta 0:00:01\n",
            "   --- ------------------------------------ 1.2/12.9 MB 15.6 MB/s eta 0:00:01\n",
            "   ----- ---------------------------------- 1.9/12.9 MB 15.0 MB/s eta 0:00:01\n",
            "   ------- -------------------------------- 2.3/12.9 MB 13.5 MB/s eta 0:00:01\n",
            "   --------- ------------------------------ 2.9/12.9 MB 13.5 MB/s eta 0:00:01\n",
            "   ---------- ----------------------------- 3.5/12.9 MB 13.1 MB/s eta 0:00:01\n",
            "   ------------ --------------------------- 4.0/12.9 MB 12.7 MB/s eta 0:00:01\n",
            "   -------------- ------------------------- 4.6/12.9 MB 12.8 MB/s eta 0:00:01\n",
            "   ---------------- ----------------------- 5.3/12.9 MB 13.0 MB/s eta 0:00:01\n",
            "   ------------------ --------------------- 5.8/12.9 MB 12.8 MB/s eta 0:00:01\n",
            "   -------------------- ------------------- 6.5/12.9 MB 13.0 MB/s eta 0:00:01\n",
            "   --------------------- ------------------ 7.1/12.9 MB 12.9 MB/s eta 0:00:01\n",
            "   ----------------------- ---------------- 7.5/12.9 MB 12.6 MB/s eta 0:00:01\n",
            "   ------------------------- -------------- 8.1/12.9 MB 12.7 MB/s eta 0:00:01\n",
            "   --------------------------- ------------ 8.7/12.9 MB 12.7 MB/s eta 0:00:01\n",
            "   ---------------------------- ----------- 9.2/12.9 MB 12.5 MB/s eta 0:00:01\n",
            "   ------------------------------ --------- 9.7/12.9 MB 12.5 MB/s eta 0:00:01\n",
            "   -------------------------------- ------- 10.3/12.9 MB 12.4 MB/s eta 0:00:01\n",
            "   ---------------------------------- ----- 11.0/12.9 MB 12.3 MB/s eta 0:00:01\n",
            "   ------------------------------------ --- 11.7/12.9 MB 12.4 MB/s eta 0:00:01\n",
            "   ------------------------------------- -- 12.1/12.9 MB 12.4 MB/s eta 0:00:01\n",
            "   ---------------------------------------  12.7/12.9 MB 12.4 MB/s eta 0:00:01\n",
            "   ---------------------------------------  12.9/12.9 MB 12.4 MB/s eta 0:00:01\n",
            "   ---------------------------------------- 12.9/12.9 MB 11.7 MB/s eta 0:00:00\n",
            "Downloading cachetools-5.5.2-py3-none-any.whl (10 kB)\n",
            "Downloading google_auth_httplib2-0.2.0-py2.py3-none-any.whl (9.3 kB)\n",
            "Downloading googleapis_common_protos-1.68.0-py2.py3-none-any.whl (164 kB)\n",
            "   ---------------------------------------- 0.0/165.0 kB ? eta -:--:--\n",
            "   ---------------------------------------- 165.0/165.0 kB ? eta 0:00:00\n",
            "Downloading httplib2-0.22.0-py3-none-any.whl (96 kB)\n",
            "   ---------------------------------------- 0.0/96.9 kB ? eta -:--:--\n",
            "   ---------------------------------------- 96.9/96.9 kB ? eta 0:00:00\n",
            "Downloading proto_plus-1.26.0-py3-none-any.whl (50 kB)\n",
            "   ---------------------------------------- 0.0/50.2 kB ? eta -:--:--\n",
            "   ---------------------------------------- 50.2/50.2 kB 2.5 MB/s eta 0:00:00\n",
            "Using cached pyasn1_modules-0.4.1-py3-none-any.whl (181 kB)\n",
            "Using cached rsa-4.9-py3-none-any.whl (34 kB)\n",
            "Downloading uritemplate-4.1.1-py2.py3-none-any.whl (10 kB)\n",
            "Downloading grpcio-1.70.0-cp312-cp312-win_amd64.whl (4.3 MB)\n",
            "   ---------------------------------------- 0.0/4.3 MB ? eta -:--:--\n",
            "   ------ --------------------------------- 0.7/4.3 MB 14.2 MB/s eta 0:00:01\n",
            "   ------------ --------------------------- 1.3/4.3 MB 14.3 MB/s eta 0:00:01\n",
            "   ------------------ --------------------- 1.9/4.3 MB 13.8 MB/s eta 0:00:01\n",
            "   ----------------------- ---------------- 2.5/4.3 MB 13.5 MB/s eta 0:00:01\n",
            "   ----------------------------- ---------- 3.2/4.3 MB 14.4 MB/s eta 0:00:01\n",
            "   ----------------------------------- ---- 3.8/4.3 MB 13.6 MB/s eta 0:00:01\n",
            "   ---------------------------------------  4.3/4.3 MB 13.7 MB/s eta 0:00:01\n",
            "   ---------------------------------------- 4.3/4.3 MB 12.5 MB/s eta 0:00:00\n",
            "Downloading grpcio_status-1.70.0-py3-none-any.whl (14 kB)\n",
            "Using cached pyasn1-0.6.1-py3-none-any.whl (83 kB)\n",
            "Installing collected packages: uritemplate, pyasn1, protobuf, httplib2, grpcio, cachetools, rsa, pyasn1-modules, proto-plus, googleapis-common-protos, grpcio-status, google-auth, google-auth-httplib2, google-api-core, google-api-python-client, google-ai-generativelanguage, google.generativeai\n",
            "Successfully installed cachetools-5.5.2 google-ai-generativelanguage-0.6.15 google-api-core-2.24.1 google-api-python-client-2.161.0 google-auth-2.38.0 google-auth-httplib2-0.2.0 google.generativeai-0.8.4 googleapis-common-protos-1.68.0 grpcio-1.70.0 grpcio-status-1.70.0 httplib2-0.22.0 proto-plus-1.26.0 protobuf-5.29.3 pyasn1-0.6.1 pyasn1-modules-0.4.1 rsa-4.9 uritemplate-4.1.1\n",
            "Note: you may need to restart the kernel to use updated packages.\n"
          ]
        },
        {
          "name": "stderr",
          "output_type": "stream",
          "text": [
            "\n",
            "[notice] A new release of pip is available: 24.0 -> 25.0.1\n",
            "[notice] To update, run: python.exe -m pip install --upgrade pip\n"
          ]
        }
      ],
      "source": [
        "%pip install google.generativeai python-dotenv"
      ]
    },
    {
      "cell_type": "code",
      "execution_count": 8,
      "metadata": {
        "id": "he0XQGfoopWm"
      },
      "outputs": [],
      "source": [
        "import google.generativeai as genai\n",
        "import os\n",
        "from dotenv import load_dotenv\n",
        "\n",
        "load_dotenv()\n",
        "genai.configure(api_key=os.getenv(\"GOOGLE_API_KEY\"))\n",
        "model = genai.GenerativeModel(\"gemini-1.5-flash\")"
      ]
    },
    {
      "cell_type": "code",
      "execution_count": 9,
      "metadata": {
        "id": "5qdqye8hopd3"
      },
      "outputs": [],
      "source": [
        "response = model.generate_content(\"What is the capital of India?\")"
      ]
    },
    {
      "cell_type": "code",
      "execution_count": 10,
      "metadata": {
        "id": "YVjHSNfcopss"
      },
      "outputs": [
        {
          "name": "stdout",
          "output_type": "stream",
          "text": [
            "response:\n",
            "GenerateContentResponse(\n",
            "    done=True,\n",
            "    iterator=None,\n",
            "    result=protos.GenerateContentResponse({\n",
            "      \"candidates\": [\n",
            "        {\n",
            "          \"content\": {\n",
            "            \"parts\": [\n",
            "              {\n",
            "                \"text\": \"The capital of India is **New Delhi**.\\n\"\n",
            "              }\n",
            "            ],\n",
            "            \"role\": \"model\"\n",
            "          },\n",
            "          \"finish_reason\": \"STOP\",\n",
            "          \"avg_logprobs\": -0.0026347806677222254\n",
            "        }\n",
            "      ],\n",
            "      \"usage_metadata\": {\n",
            "        \"prompt_token_count\": 7,\n",
            "        \"candidates_token_count\": 10,\n",
            "        \"total_token_count\": 17\n",
            "      },\n",
            "      \"model_version\": \"gemini-1.5-flash\"\n",
            "    }),\n",
            ")\n"
          ]
        }
      ],
      "source": [
        "print(response)"
      ]
    },
    {
      "cell_type": "code",
      "execution_count": 11,
      "metadata": {
        "id": "jNiWgPKJpVYf"
      },
      "outputs": [
        {
          "name": "stdout",
          "output_type": "stream",
          "text": [
            "The capital of India is **New Delhi**.\n",
            "\n"
          ]
        }
      ],
      "source": [
        "print(response.text)"
      ]
    },
    {
      "cell_type": "code",
      "execution_count": 12,
      "metadata": {
        "id": "EqXYZA1JpQZF"
      },
      "outputs": [],
      "source": [
        "def analyze_resume(resume_text, job_description=None):\n",
        "    if not resume_text:\n",
        "        return {\"error\": \"Resume text is required for analysis.\"}\n",
        "\n",
        "    model = genai.GenerativeModel(\"gemini-1.5-flash\")\n",
        "\n",
        "    base_prompt = f\"\"\"\n",
        "    You are an experienced HR with Technical Experience in the field of any one job role from Data Science, Data Analyst, DevOPS, Machine Learning Engineer, Prompt Engineer, AI Engineer, Full Stack Web Development, Big Data Engineering, Marketing Analyst, Human Resource Manager, Software Developer your task is to review the provided resume.\n",
        "    Please share your professional evaluation on whether the candidate's profile aligns with the role.ALso mention Skills he already have and siggest some skills to imorve his resume , alos suggest some course he might take to improve the skills.Highlight the strengths and weaknesses.\n",
        "\n",
        "    Resume:\n",
        "    {resume_text}\n",
        "    \"\"\"\n",
        "\n",
        "    if job_description:\n",
        "        base_prompt += f\"\"\"\n",
        "        Additionally, compare this resume to the following job description:\n",
        "\n",
        "        Job Description:\n",
        "        {job_description}\n",
        "\n",
        "        Highlight the strengths and weaknesses of the applicant in relation to the specified job requirements.\n",
        "        \"\"\"\n",
        "\n",
        "    response = model.generate_content(base_prompt)\n",
        "\n",
        "    analysis = response.text.strip()\n",
        "    return analysis"
      ]
    },
    {
      "cell_type": "code",
      "execution_count": 13,
      "metadata": {
        "id": "cBm1xgBBpWip"
      },
      "outputs": [
        {
          "name": "stdout",
          "output_type": "stream",
          "text": [
            "## Resume Evaluation for Rutuja Bidarkar - Software Engineer Role\n",
            "\n",
            "**Overall Impression:** Rutuja's resume presents a strong foundation for a junior-level Software Engineer role.  The resume showcases a good breadth of technical skills and relevant projects. However, there are areas for improvement to highlight her achievements more effectively and demonstrate a deeper understanding of specific technologies.  As an experienced HR professional with a software development background, I'd offer the following evaluation:\n",
            "\n",
            "\n",
            "**Strengths:**\n",
            "\n",
            "* **Strong Technical Skillset:** Rutuja possesses a diverse skillset covering front-end (React.js, HTML, CSS), back-end (Node.js, PHP, Django, Express.js), databases (MySQL, MongoDB), cloud (AWS), and version control (Git). This demonstrates versatility.\n",
            "* **Relevant Projects:** The projects, \"Personalized Career Guidance Platform\" and \"Interactive Math Learning Tracker,\" are relevant to a software engineering role and demonstrate practical application of her skills.  Mentioning AI integration in the first project is a plus.\n",
            "* **Certifications:**  The certifications in React, Python, and AWS Cloud Practitioner add credibility and show initiative in pursuing professional development.\n",
            "* **Achievements:** Winning a hackathon and publishing a research paper are significant accomplishments that demonstrate problem-solving abilities and academic rigor.\n",
            "* **Extracurricular Activities:**  Participation in open-source projects and coding clubs highlights collaboration and engagement within the tech community.\n",
            "\n",
            "**Weaknesses:**\n",
            "\n",
            "* **Unspecified Experience Level:**  The resume states \"[X] years of experience,\" which is a major weakness.  Quantifying experience is crucial.  Is it 0, 1, 2, or more? This needs immediate correction.\n",
            "* **Vague Project Descriptions:** While the project titles are compelling, the descriptions lack depth.  Quantifiable results are missing.  Instead of simply listing technologies, focus on achievements: e.g., \"Improved user engagement by 20% by implementing X feature,\" or \"Reduced server load by 15% through optimization of Y.\"\n",
            "* **2027 Graduation Date:**  Listing a 2027 graduation date indicates the resume is likely from a student seeking internships or entry-level positions.  This needs to be explicitly stated if this is the intention.\n",
            "* **Missing Quantifiable Metrics:**  The resume lacks concrete numbers to showcase the impact of her work.  For instance, how many users did her platforms have? What were the key performance indicators (KPIs) achieved?\n",
            "* **Objective Statement is Generic:**  The objective statement is too generic and doesn't highlight specific career goals or areas of interest.\n",
            "\n",
            "\n",
            "**Skills to Improve:**\n",
            "\n",
            "* **Deepen Expertise:** While Rutuja has a broad skillset, she should focus on mastering 2-3 technologies deeply rather than superficially knowing many. This will make her more marketable.  Choose a specialization (e.g., Full-stack with React and Node.js focus, or Back-end with Django and Python).\n",
            "* **Data Structures and Algorithms:** This is crucial for software engineers, especially for interviews.  Practice consistently.\n",
            "* **System Design:**  For more senior roles, understanding system design principles is essential.\n",
            "* **Testing & Debugging:**  Highlight experience with various testing methodologies (unit, integration, end-to-end) and debugging techniques.\n",
            "\n",
            "\n",
            "**Suggested Courses:**\n",
            "\n",
            "* **Advanced React.js:**  To deepen her expertise in a specific front-end framework. (Udemy, Coursera, freeCodeCamp)\n",
            "* **Node.js and Express.js for Beginners:** (Udemy, Coursera, freeCodeCamp) To reinforce her back-end skills if she chooses to focus on it.\n",
            "* **Data Structures and Algorithms (DSA):**  Crucial for interviews and coding proficiency. (Algorithms Specialization on Coursera, Udemy Courses)\n",
            "* **System Design Interview:**  Many courses are available online that teach system design principles crucial for senior roles. (Educative.io, Udemy)\n",
            "* **AWS Solutions Architect Associate:**  If aiming for a cloud-focused role, this certification is highly beneficial.\n",
            "\n",
            "\n",
            "**Recommendations:**\n",
            "\n",
            "1. **Update Graduation Date:** Change 2027 to the correct year if applicable.\n",
            "2. **Quantify Experience:** Specify the number of years of experience.\n",
            "3. **Strengthen Project Descriptions:** Add quantifiable results and focus on achievements.\n",
            "4. **Refine Objective Statement:**  Make it specific to a target role, highlighting key skills and career aspirations.\n",
            "5. **Add a Portfolio Link:**  A link to a personal portfolio showcasing the projects in more detail would significantly improve the resume's impact.\n",
            "\n",
            "\n",
            "By addressing these weaknesses and incorporating the suggested improvements, Rutuja can significantly strengthen her resume and increase her chances of landing her desired software engineering role.\n"
          ]
        }
      ],
      "source": [
        "print(analyze_resume(resume_text))"
      ]
    }
  ],
  "metadata": {
    "colab": {
      "provenance": []
    },
    "kernelspec": {
      "display_name": "Python 3",
      "name": "python3"
    },
    "language_info": {
      "codemirror_mode": {
        "name": "ipython",
        "version": 3
      },
      "file_extension": ".py",
      "mimetype": "text/x-python",
      "name": "python",
      "nbconvert_exporter": "python",
      "pygments_lexer": "ipython3",
      "version": "3.12.3"
    }
  },
  "nbformat": 4,
  "nbformat_minor": 0
}
